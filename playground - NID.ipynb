{
 "cells": [
  {
   "cell_type": "code",
   "execution_count": 1,
   "metadata": {},
   "outputs": [],
   "source": [
    "import numpy as np\n",
    "import matplotlib.pyplot as plt\n",
    "import time\n",
    "from IPython.display import clear_output\n",
    "import pandas as pd"
   ]
  },
  {
   "cell_type": "code",
   "execution_count": 2,
   "metadata": {},
   "outputs": [
    {
     "name": "stdout",
     "output_type": "stream",
     "text": [
      "       Unnamed: 0                     name   count\n",
      "0              11                 Bacteria  177137\n",
      "1             246           Entamoeba coli   44665\n",
      "2             114                    Fungi   42807\n",
      "3             158                Mammalian   32036\n",
      "4             216               Microbiota   29069\n",
      "...           ...                      ...     ...\n",
      "91162       67465  Arthroleptis phrynoides       1\n",
      "91163       67464   Telmatobius vilamensis       1\n",
      "91164       67463   Telmatobius verrucosus       1\n",
      "91165       67462   Telmatobius marmoratus       1\n",
      "91166       91166                  Wolfius       1\n",
      "\n",
      "[91167 rows x 3 columns]\n"
     ]
    }
   ],
   "source": [
    "# load species.csv\n",
    "df = pd.read_csv(r'species.csv')\n",
    "print(df)"
   ]
  },
  {
   "cell_type": "code",
   "execution_count": 3,
   "metadata": {},
   "outputs": [],
   "source": [
    "def random_nid(taxon_list):\n",
    "        return np.random.choice(taxon_list)"
   ]
  },
  {
   "cell_type": "code",
   "execution_count": 4,
   "metadata": {},
   "outputs": [
    {
     "data": {
      "text/plain": [
       "<bound method NDFrame.head of        Unnamed: 0                     name   count\n",
       "0              11                 Bacteria  177137\n",
       "1             246           Entamoeba coli   44665\n",
       "2             114                    Fungi   42807\n",
       "3             158                Mammalian   32036\n",
       "4             216               Microbiota   29069\n",
       "...           ...                      ...     ...\n",
       "91162       67465  Arthroleptis phrynoides       1\n",
       "91163       67464   Telmatobius vilamensis       1\n",
       "91164       67463   Telmatobius verrucosus       1\n",
       "91165       67462   Telmatobius marmoratus       1\n",
       "91166       91166                  Wolfius       1\n",
       "\n",
       "[91167 rows x 3 columns]>"
      ]
     },
     "execution_count": 4,
     "metadata": {},
     "output_type": "execute_result"
    }
   ],
   "source": [
    "df.head"
   ]
  },
  {
   "cell_type": "code",
   "execution_count": 5,
   "metadata": {},
   "outputs": [],
   "source": [
    "taxon_rare = df[df[\"count\"] < 10000]\n",
    "taxon_list = taxon_rare.name.tolist()\n",
    "#print(taxon_list)"
   ]
  },
  {
   "cell_type": "code",
   "execution_count": 10,
   "metadata": {},
   "outputs": [
    {
     "name": "stdout",
     "output_type": "stream",
     "text": [
      "red milkweed beetle\n"
     ]
    }
   ],
   "source": [
    "your_pokemon = random_nid(taxon_list)\n",
    "print(your_pokemon)"
   ]
  },
  {
   "cell_type": "code",
   "execution_count": 15,
   "metadata": {},
   "outputs": [
    {
     "data": {
      "text/plain": [
       "55                                     []\n",
       "67                                     []\n",
       "68                                     []\n",
       "77                                     []\n",
       "80                                     []\n",
       "                        ...              \n",
       "1374911                                []\n",
       "1374915                                []\n",
       "1374949                                []\n",
       "1374953                                []\n",
       "1374960    [[Poecilia sphenops, 5203748]]\n",
       "Name: species, Length: 105993, dtype: object"
      ]
     },
     "execution_count": 15,
     "metadata": {},
     "output_type": "execute_result"
    }
   ],
   "source": [
    "f = pd.read_pickle('annotations_wv.pkl')\n",
    "df = df.species[df.species]\n",
    "df"
   ]
  },
  {
   "cell_type": "code",
   "execution_count": 13,
   "metadata": {},
   "outputs": [
    {
     "data": {
      "text/html": [
       "<div>\n",
       "<style scoped>\n",
       "    .dataframe tbody tr th:only-of-type {\n",
       "        vertical-align: middle;\n",
       "    }\n",
       "\n",
       "    .dataframe tbody tr th {\n",
       "        vertical-align: top;\n",
       "    }\n",
       "\n",
       "    .dataframe thead th {\n",
       "        text-align: right;\n",
       "    }\n",
       "</style>\n",
       "<table border=\"1\" class=\"dataframe\">\n",
       "  <thead>\n",
       "    <tr style=\"text-align: right;\">\n",
       "      <th></th>\n",
       "      <th>name</th>\n",
       "      <th>count</th>\n",
       "    </tr>\n",
       "  </thead>\n",
       "  <tbody>\n",
       "    <tr>\n",
       "      <th>83937</th>\n",
       "      <td>952197</td>\n",
       "      <td>[[zebu cattle, 2441023]]</td>\n",
       "    </tr>\n",
       "    <tr>\n",
       "      <th>25054</th>\n",
       "      <td>260362</td>\n",
       "      <td>[[zebrafishes, 2334432]]</td>\n",
       "    </tr>\n",
       "    <tr>\n",
       "      <th>8713</th>\n",
       "      <td>88942</td>\n",
       "      <td>[[zebra mussel, 2287072]]</td>\n",
       "    </tr>\n",
       "    <tr>\n",
       "      <th>65584</th>\n",
       "      <td>726473</td>\n",
       "      <td>[[zebra danio, 2362679]]</td>\n",
       "    </tr>\n",
       "    <tr>\n",
       "      <th>25653</th>\n",
       "      <td>267284</td>\n",
       "      <td>[[ylang-ylang, 5407583]]</td>\n",
       "    </tr>\n",
       "    <tr>\n",
       "      <th>...</th>\n",
       "      <td>...</td>\n",
       "      <td>...</td>\n",
       "    </tr>\n",
       "    <tr>\n",
       "      <th>38102</th>\n",
       "      <td>407715</td>\n",
       "      <td>[]</td>\n",
       "    </tr>\n",
       "    <tr>\n",
       "      <th>38101</th>\n",
       "      <td>407711</td>\n",
       "      <td>[]</td>\n",
       "    </tr>\n",
       "    <tr>\n",
       "      <th>38100</th>\n",
       "      <td>407709</td>\n",
       "      <td>[]</td>\n",
       "    </tr>\n",
       "    <tr>\n",
       "      <th>38099</th>\n",
       "      <td>407704</td>\n",
       "      <td>[]</td>\n",
       "    </tr>\n",
       "    <tr>\n",
       "      <th>52996</th>\n",
       "      <td>580432</td>\n",
       "      <td>[]</td>\n",
       "    </tr>\n",
       "  </tbody>\n",
       "</table>\n",
       "<p>105993 rows × 2 columns</p>\n",
       "</div>"
      ],
      "text/plain": [
       "         name                      count\n",
       "83937  952197   [[zebu cattle, 2441023]]\n",
       "25054  260362   [[zebrafishes, 2334432]]\n",
       "8713    88942  [[zebra mussel, 2287072]]\n",
       "65584  726473   [[zebra danio, 2362679]]\n",
       "25653  267284   [[ylang-ylang, 5407583]]\n",
       "...       ...                        ...\n",
       "38102  407715                         []\n",
       "38101  407711                         []\n",
       "38100  407709                         []\n",
       "38099  407704                         []\n",
       "52996  580432                         []\n",
       "\n",
       "[105993 rows x 2 columns]"
      ]
     },
     "execution_count": 13,
     "metadata": {},
     "output_type": "execute_result"
    }
   ],
   "source": [
    "df2 = pd.DataFrame([{'name':k,'count':v} for k,v in df['species'].items()])\n",
    "df2 = df2.sort_values('count', ascending=False)\n",
    "df2"
   ]
  }
 ],
 "metadata": {
  "kernelspec": {
   "display_name": "venvKarine",
   "language": "python",
   "name": "python3"
  },
  "language_info": {
   "codemirror_mode": {
    "name": "ipython",
    "version": 3
   },
   "file_extension": ".py",
   "mimetype": "text/x-python",
   "name": "python",
   "nbconvert_exporter": "python",
   "pygments_lexer": "ipython3",
   "version": "3.8.10"
  },
  "orig_nbformat": 4,
  "vscode": {
   "interpreter": {
    "hash": "d78e0bbb5c3b7fb74acb9bb4e2aae5d36efdceb8c3d708d91ff9ecaa249cbd18"
   }
  }
 },
 "nbformat": 4,
 "nbformat_minor": 2
}
