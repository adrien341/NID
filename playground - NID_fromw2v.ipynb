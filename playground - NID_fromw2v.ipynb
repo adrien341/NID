{
 "cells": [
  {
   "cell_type": "code",
   "execution_count": 1,
   "metadata": {},
   "outputs": [],
   "source": [
    "import numpy as np\n",
    "import matplotlib.pyplot as plt\n",
    "from IPython.display import clear_output\n",
    "import pandas as pd\n",
    "from collections import Counter"
   ]
  },
  {
   "cell_type": "code",
   "execution_count": 25,
   "metadata": {},
   "outputs": [
    {
     "data": {
      "text/plain": [
       "190                       [[Bacteria, 3]]\n",
       "1332               [[Mammalian, 4899044]]\n",
       "1514                         [[Fungi, 5]]\n",
       "1663                  [[Fungal, 4904189]]\n",
       "3134                       [[Viruses, 8]]\n",
       "                        ...              \n",
       "1374532       [[Palaeoniscidae, 3238414]]\n",
       "1374567          [[Diversisporales, 533]]\n",
       "1374651            [[Plocamiaceae, 9033]]\n",
       "1374857          [[Trichoniscidae, 5764]]\n",
       "1374960    [[Poecilia sphenops, 5203748]]\n",
       "Name: species, Length: 19519, dtype: object"
      ]
     },
     "execution_count": 25,
     "metadata": {},
     "output_type": "execute_result"
    }
   ],
   "source": [
    "# loading data as dataframe, leaving the rows with empty species out, keeping only the species column\n",
    "df = pd.read_pickle('annotations_wv.pkl')\n",
    "df = df[df['species'].map(lambda d: len(d)) > 0]\n",
    "df = df.species\n",
    "df"
   ]
  },
  {
   "cell_type": "code",
   "execution_count": 44,
   "metadata": {},
   "outputs": [],
   "source": [
    "# attention, prend 3 minutes à sortir\n",
    "series = df.value_counts().rename_axis('name').reset_index(name='count')"
   ]
  },
  {
   "cell_type": "code",
   "execution_count": 45,
   "metadata": {},
   "outputs": [
    {
     "data": {
      "text/html": [
       "<div>\n",
       "<style scoped>\n",
       "    .dataframe tbody tr th:only-of-type {\n",
       "        vertical-align: middle;\n",
       "    }\n",
       "\n",
       "    .dataframe tbody tr th {\n",
       "        vertical-align: top;\n",
       "    }\n",
       "\n",
       "    .dataframe thead th {\n",
       "        text-align: right;\n",
       "    }\n",
       "</style>\n",
       "<table border=\"1\" class=\"dataframe\">\n",
       "  <thead>\n",
       "    <tr style=\"text-align: right;\">\n",
       "      <th></th>\n",
       "      <th>name</th>\n",
       "      <th>count</th>\n",
       "    </tr>\n",
       "  </thead>\n",
       "  <tbody>\n",
       "    <tr>\n",
       "      <th>0</th>\n",
       "      <td>[[Bacteria, 3]]</td>\n",
       "      <td>581</td>\n",
       "    </tr>\n",
       "    <tr>\n",
       "      <th>1</th>\n",
       "      <td>[[Fungi, 5]]</td>\n",
       "      <td>241</td>\n",
       "    </tr>\n",
       "    <tr>\n",
       "      <th>2</th>\n",
       "      <td>[[Fungal, 4904189]]</td>\n",
       "      <td>209</td>\n",
       "    </tr>\n",
       "    <tr>\n",
       "      <th>3</th>\n",
       "      <td>[[Sterile, 3280708]]</td>\n",
       "      <td>143</td>\n",
       "    </tr>\n",
       "    <tr>\n",
       "      <th>4</th>\n",
       "      <td>[[Cyanobacteria, 68]]</td>\n",
       "      <td>124</td>\n",
       "    </tr>\n",
       "    <tr>\n",
       "      <th>...</th>\n",
       "      <td>...</td>\n",
       "      <td>...</td>\n",
       "    </tr>\n",
       "    <tr>\n",
       "      <th>15184</th>\n",
       "      <td>[[Filifactor alocis, 3226850]]</td>\n",
       "      <td>1</td>\n",
       "    </tr>\n",
       "    <tr>\n",
       "      <th>15185</th>\n",
       "      <td>[[Trichothecium roseum, 2561979]]</td>\n",
       "      <td>1</td>\n",
       "    </tr>\n",
       "    <tr>\n",
       "      <th>15186</th>\n",
       "      <td>[[Macaranga tanarius, 3074251]]</td>\n",
       "      <td>1</td>\n",
       "    </tr>\n",
       "    <tr>\n",
       "      <th>15187</th>\n",
       "      <td>[[Nodosilinea nodulosa, 7713516]]</td>\n",
       "      <td>1</td>\n",
       "    </tr>\n",
       "    <tr>\n",
       "      <th>15188</th>\n",
       "      <td>[[Poecilia sphenops, 5203748]]</td>\n",
       "      <td>1</td>\n",
       "    </tr>\n",
       "  </tbody>\n",
       "</table>\n",
       "<p>15189 rows × 2 columns</p>\n",
       "</div>"
      ],
      "text/plain": [
       "                                    name  count\n",
       "0                        [[Bacteria, 3]]    581\n",
       "1                           [[Fungi, 5]]    241\n",
       "2                    [[Fungal, 4904189]]    209\n",
       "3                   [[Sterile, 3280708]]    143\n",
       "4                  [[Cyanobacteria, 68]]    124\n",
       "...                                  ...    ...\n",
       "15184     [[Filifactor alocis, 3226850]]      1\n",
       "15185  [[Trichothecium roseum, 2561979]]      1\n",
       "15186    [[Macaranga tanarius, 3074251]]      1\n",
       "15187  [[Nodosilinea nodulosa, 7713516]]      1\n",
       "15188     [[Poecilia sphenops, 5203748]]      1\n",
       "\n",
       "[15189 rows x 2 columns]"
      ]
     },
     "execution_count": 45,
     "metadata": {},
     "output_type": "execute_result"
    }
   ],
   "source": [
    "series"
   ]
  },
  {
   "cell_type": "code",
   "execution_count": 46,
   "metadata": {},
   "outputs": [],
   "source": [
    "series.to_csv('species_w2v.csv')"
   ]
  }
 ],
 "metadata": {
  "kernelspec": {
   "display_name": "venvKarine",
   "language": "python",
   "name": "python3"
  },
  "language_info": {
   "codemirror_mode": {
    "name": "ipython",
    "version": 3
   },
   "file_extension": ".py",
   "mimetype": "text/x-python",
   "name": "python",
   "nbconvert_exporter": "python",
   "pygments_lexer": "ipython3",
   "version": "3.8.10"
  },
  "orig_nbformat": 4,
  "vscode": {
   "interpreter": {
    "hash": "d78e0bbb5c3b7fb74acb9bb4e2aae5d36efdceb8c3d708d91ff9ecaa249cbd18"
   }
  }
 },
 "nbformat": 4,
 "nbformat_minor": 2
}
